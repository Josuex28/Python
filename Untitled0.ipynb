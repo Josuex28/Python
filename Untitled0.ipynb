{
  "cells": [
    {
      "cell_type": "markdown",
      "metadata": {
        "id": "view-in-github",
        "colab_type": "text"
      },
      "source": [
        "<a href=\"https://colab.research.google.com/github/Josuex28/Python/blob/main/Untitled0.ipynb\" target=\"_parent\"><img src=\"https://colab.research.google.com/assets/colab-badge.svg\" alt=\"Open In Colab\"/></a>"
      ]
    },
    {
      "cell_type": "markdown",
      "metadata": {
        "id": "iAPQ4wlU0rZV"
      },
      "source": [
        "Tarea: Convertir grados Celsius a Farenheit"
      ]
    },
    {
      "cell_type": "markdown",
      "metadata": {
        "id": "oOn5JoLbE5yj"
      },
      "source": []
    },
    {
      "cell_type": "code",
      "execution_count": null,
      "metadata": {
        "id": "wfaEXRA00qCN"
      },
      "outputs": [],
      "source": [
        "def convertir_cf(c):\n",
        "  return c*1.8 + 32\n",
        "\n"
      ]
    },
    {
      "cell_type": "code",
      "execution_count": null,
      "metadata": {
        "colab": {
          "base_uri": "https://localhost:8080/"
        },
        "id": "ZkRO16J63brk",
        "outputId": "420dc2c7-8a65-45a9-9a83-208b817367be"
      },
      "outputs": [
        {
          "name": "stdout",
          "output_type": "stream",
          "text": [
            "Celsius:33\n",
            "F: 91.4\n"
          ]
        }
      ],
      "source": [
        "c= float (input(\"Celsius:\"))\n",
        "print(\"F:\", convertir_cf(c))"
      ]
    },
    {
      "cell_type": "markdown",
      "metadata": {
        "id": "OQF6ib8f7Xkc"
      },
      "source": [
        "Convertir grados Farenheit y Celsius a kelvin"
      ]
    },
    {
      "cell_type": "code",
      "execution_count": null,
      "metadata": {
        "id": "blWZVsSNTeeW"
      },
      "outputs": [],
      "source": [
        "def convertir_cf(c):\n",
        "  return c*1.8 + 32\n",
        "def convertir_ck(c):\n",
        "  return c + 273.15"
      ]
    },
    {
      "cell_type": "code",
      "execution_count": null,
      "metadata": {
        "colab": {
          "base_uri": "https://localhost:8080/"
        },
        "id": "OiVMHz9kUA7o",
        "outputId": "8a93056e-7721-4dfa-b986-9496c05bbdfa"
      },
      "outputs": [
        {
          "name": "stdout",
          "output_type": "stream",
          "text": [
            "Celsius:1\n",
            "F: -272.15\n",
            "K: -150.74999999999997\n"
          ]
        }
      ],
      "source": [
        "C= float (input(\"Celsius:\"))\n",
        "print(\"F:\", convertir_cf(C))\n",
        "print(\"K:\", convertir_ck(C))"
      ]
    },
    {
      "cell_type": "code",
      "execution_count": null,
      "metadata": {
        "id": "zdsBJJEwPUlg"
      },
      "outputs": [],
      "source": [
        "def convertir_cf(f):\n",
        "  return (f-32)/1.8\n",
        "def convertir_ck(f):\n",
        "  return (f-32)/1.8 + 273.15\n",
        "\n",
        "\n"
      ]
    },
    {
      "cell_type": "code",
      "execution_count": null,
      "metadata": {
        "colab": {
          "base_uri": "https://localhost:8080/"
        },
        "id": "ih5KFOPGQdds",
        "outputId": "8b38c10a-3d68-41ed-bef5-ff584cda3e07"
      },
      "outputs": [
        {
          "name": "stdout",
          "output_type": "stream",
          "text": [
            "Farenheit:1\n",
            "C: -272.15\n",
            "K: -150.74999999999997\n"
          ]
        }
      ],
      "source": [
        "c= float (input(\"Farenheit:\"))\n",
        "print(\"C:\", convertir_cf(c))\n",
        "print(\"K:\", convertir_ck(c))"
      ]
    },
    {
      "cell_type": "code",
      "execution_count": null,
      "metadata": {
        "id": "6MSHhe_TXbzz"
      },
      "outputs": [],
      "source": [
        "def convertir_ck(k):\n",
        "  return k -273.15 /1.8\n",
        "def convertir_cf(k):\n",
        "  return k- 273.15\n"
      ]
    },
    {
      "cell_type": "code",
      "execution_count": null,
      "metadata": {
        "colab": {
          "base_uri": "https://localhost:8080/"
        },
        "id": "RdmxSil5ZHc9",
        "outputId": "0a0e67b5-818f-4d7c-e7eb-1dcea7a98c97"
      },
      "outputs": [
        {
          "name": "stdout",
          "output_type": "stream",
          "text": [
            "Kelvin:1\n",
            "C: -272.15\n",
            "F: -150.74999999999997\n"
          ]
        }
      ],
      "source": [
        "C= float (input(\"Kelvin:\"))\n",
        "print(\"C:\", convertir_cf(C))\n",
        "print(\"F:\", convertir_ck(C))"
      ]
    },
    {
      "cell_type": "markdown",
      "metadata": {
        "id": "4uKvCD4D7L7k"
      },
      "source": [
        "EJERCICIO- Elevar un numero al cuadrado"
      ]
    },
    {
      "cell_type": "code",
      "execution_count": null,
      "metadata": {
        "id": "LdZYNecm7SaH"
      },
      "outputs": [],
      "source": [
        "def elevarcuadrado(base=0,exponente=2):\n",
        "  return base**exponente"
      ]
    },
    {
      "cell_type": "code",
      "execution_count": null,
      "metadata": {
        "colab": {
          "base_uri": "https://localhost:8080/"
        },
        "id": "B5uYYvNY7oS6",
        "outputId": "4a2ec7ce-2f2c-4ce3-ff0b-9a94b69e5f68"
      },
      "outputs": [
        {
          "name": "stdout",
          "output_type": "stream",
          "text": [
            "Num:3\n",
            "Cuadrado: 27\n"
          ]
        }
      ],
      "source": [
        "num= int(input(\"Num:\"))\n",
        "print(\"Cuadrado:\", elevarcuadrado(num,3))"
      ]
    },
    {
      "cell_type": "markdown",
      "metadata": {
        "id": "PK1i4a6m8Rs_"
      },
      "source": [
        "USANDO FUNCIONES LAMBDA"
      ]
    },
    {
      "cell_type": "code",
      "execution_count": null,
      "metadata": {
        "id": "D_exj4ku8v_l"
      },
      "outputs": [],
      "source": [
        "elevarcuadradolambda = lambda base, exponente: base**exponente"
      ]
    },
    {
      "cell_type": "code",
      "execution_count": null,
      "metadata": {
        "colab": {
          "base_uri": "https://localhost:8080/"
        },
        "id": "N4l7fTC-9Fy8",
        "outputId": "39eac90c-80b8-4b24-a07e-417497c42e4f"
      },
      "outputs": [
        {
          "name": "stdout",
          "output_type": "stream",
          "text": [
            "Num:3\n",
            "cuadrado: 9\n"
          ]
        }
      ],
      "source": [
        "valor= int(input(\"Num:\"))\n",
        "print(\"cuadrado:\", elevarcuadradolambda(valor,2))"
      ]
    },
    {
      "cell_type": "code",
      "execution_count": null,
      "metadata": {
        "colab": {
          "base_uri": "https://localhost:8080/"
        },
        "id": "wvMOVjQ9_c9P",
        "outputId": "e8bda850-4d30-4ba0-8af3-9179f4c8c090"
      },
      "outputs": [
        {
          "name": "stdout",
          "output_type": "stream",
          "text": [
            "[25, 16, 9, 4, 36, 49]\n",
            "[25, 16, 9, 4, 36, 49]\n"
          ]
        }
      ],
      "source": [
        "serie = [5,4,3,2,6,7]\n",
        "resp = map(lambda x:x**2, serie)\n",
        "print(list(resp))\n",
        "\n",
        "resp2= map(elevarcuadrado, serie)\n",
        "print(list(resp2))"
      ]
    },
    {
      "cell_type": "markdown",
      "metadata": {
        "id": "vtja8tpVDCnb"
      },
      "source": [
        "EJERCICIO: Obtener la raiz cuadrada de una serie de numeros fijos"
      ]
    },
    {
      "cell_type": "code",
      "execution_count": null,
      "metadata": {
        "colab": {
          "base_uri": "https://localhost:8080/"
        },
        "id": "6HQuwi1hDKm0",
        "outputId": "f0b6b8c1-3177-4131-cf3c-53ee5b95c742"
      },
      "outputs": [
        {
          "name": "stdout",
          "output_type": "stream",
          "text": [
            "[3.1622776601683795, 4.47213595499958, 5.477225575051661, 6.324555320336759]\n"
          ]
        }
      ],
      "source": [
        "serie = [10, 20, 30, 40]\n",
        "resp = list (map(lambda x: x** 0.5, serie))\n",
        "print(resp)"
      ]
    },
    {
      "cell_type": "markdown",
      "metadata": {
        "id": "lU46KXdfjZy9"
      },
      "source": [
        "Ejercicio"
      ]
    },
    {
      "cell_type": "code",
      "execution_count": null,
      "metadata": {
        "id": "h7wfILZ6jgNm"
      },
      "outputs": [],
      "source": [
        "elevarcuadradolambda= lambda base, exponente: base**exponente"
      ]
    },
    {
      "cell_type": "code",
      "execution_count": null,
      "metadata": {
        "colab": {
          "base_uri": "https://localhost:8080/"
        },
        "id": "jPUrkWWHlGzS",
        "outputId": "75ff5981-6ae0-421d-bba6-e544067a2c2b"
      },
      "outputs": [
        {
          "name": "stdout",
          "output_type": "stream",
          "text": [
            "Num:2\n",
            "cuadrado 8\n"
          ]
        }
      ],
      "source": [
        "valor= int(input(\"Num:\"))\n",
        "print(\"cuadrado\", elevarcuadradolambda(valor,3))\n"
      ]
    },
    {
      "cell_type": "code",
      "execution_count": null,
      "metadata": {
        "colab": {
          "base_uri": "https://localhost:8080/"
        },
        "id": "ZxFfu2don_Ty",
        "outputId": "1dc411cf-4697-4483-80a6-083682e56ec9"
      },
      "outputs": [
        {
          "name": "stdout",
          "output_type": "stream",
          "text": [
            "[512, 343, 216, 125, 64]\n",
            "[<class 'map'>, [8, 7, 6, 5, 4]]\n"
          ]
        }
      ],
      "source": [
        "serie= [8,7,6,5,4]\n",
        "resp= map(lambda x:x**3, serie)\n",
        "print(list(resp))\n",
        "\n",
        "resp2 = (map, serie)\n",
        "print(list(resp2))"
      ]
    },
    {
      "cell_type": "markdown",
      "metadata": {
        "id": "yhhiUQ8q-8R5"
      },
      "source": [
        "Clase de progra"
      ]
    },
    {
      "cell_type": "code",
      "execution_count": null,
      "metadata": {
        "id": "kgg68fzo_BSk"
      },
      "outputs": [],
      "source": [
        "def obtenerNota(nota, eval):\n",
        " return eval[1]*0.3 + nota"
      ]
    },
    {
      "cell_type": "code",
      "execution_count": null,
      "metadata": {
        "colab": {
          "base_uri": "https://localhost:8080/"
        },
        "id": "hoWSOQE6HMC0",
        "outputId": "c4e5b4e7-46e4-45c1-a387-b5e6383d9b88"
      },
      "outputs": [
        {
          "data": {
            "text/plain": [
              "6.299999999999999"
            ]
          },
          "execution_count": 15,
          "metadata": {},
          "output_type": "execute_result"
        }
      ],
      "source": [
        "matriz = [ [\"Lab1\", 6],[\"Lab2\", 8], [\"Parcial\", 7] ] #6*0.3= 1.8 + 8*0.3= 2.4 + 7*0.3= 2.1\n",
        "reduce(obtenerNota, matriz, 0)"
      ]
    },
    {
      "cell_type": "code",
      "execution_count": null,
      "metadata": {
        "id": "J73gGi_hyq_8"
      },
      "outputs": [],
      "source": [
        "def obtenerNotaFinal(nota, eval):\n",
        "  return eval[1]*0.3 + nota\n",
        "\n",
        "\n"
      ]
    },
    {
      "cell_type": "code",
      "execution_count": null,
      "metadata": {
        "colab": {
          "base_uri": "https://localhost:8080/"
        },
        "id": "mmqKbWcK0Sh-",
        "outputId": "8c69763a-9f99-481d-e08c-6a43f73e1ebe"
      },
      "outputs": [
        {
          "data": {
            "text/plain": [
              "7.5"
            ]
          },
          "execution_count": 3,
          "metadata": {},
          "output_type": "execute_result"
        }
      ],
      "source": [
        "from functools import reduce\n",
        "matriz = [ [\"Lab1\", 7],[\"Lab2\", 9], [\"Parcial\", 9] ]\n",
        "reduce(obtenerNotaFinal, matriz, 0)"
      ]
    },
    {
      "cell_type": "code",
      "execution_count": null,
      "metadata": {
        "colab": {
          "base_uri": "https://localhost:8080/"
        },
        "id": "EWRDj78B1OhF",
        "outputId": "ff2d8c76-603b-452e-dd9f-807b528ae7e5"
      },
      "outputs": [
        {
          "name": "stdout",
          "output_type": "stream",
          "text": [
            "[4, 6, 8, 10, 12]\n"
          ]
        }
      ],
      "source": [
        "serie= [2,3,4,5,6]\n",
        "resp= map(lambda x:x*2, serie)\n",
        "\n",
        "resp2=(map, serie)\n",
        "print (list(resp))"
      ]
    },
    {
      "cell_type": "markdown",
      "metadata": {
        "id": "xnldlk5JC4-t"
      },
      "source": [
        "Conversor de longitud, masa, tiempo, almacenamiento, volumen y areas."
      ]
    },
    {
      "cell_type": "code",
      "execution_count": null,
      "metadata": {
        "colab": {
          "base_uri": "https://localhost:8080/"
        },
        "id": "QNIxjlkVDGXX",
        "outputId": "06b129fa-a687-4578-ec74-3f10c2d773f3"
      },
      "outputs": [
        {
          "name": "stdout",
          "output_type": "stream",
          "text": [
            "medidas de longitud\\ medidas de volumen\\ medidas de masa\\ medidas de area\\ medidas de tiempo\\ medidas de almacenamiento, Menu Principal:1\n",
            "MEDIDAS DE LONGITUD\n",
            "pulgadas a milimetros, yardas a metros, escoja la opcion que guste:1\n",
            "pulgadas a milimetros\n",
            "---------------\n",
            "Ingrese la cantidad de pulgadas a convertir:1\n",
            "1 pulgadas son 25.4 milimetros son\n",
            "yardas a metros\n",
            "Ingrese la cantidad de yardas a convertir: 1\n",
            "1 yardas equivalen a 0.9144 metros\n",
            "           Mes  Ingreso  Acumulado\n",
            "0        Enero     1000       1000\n",
            "1      Febrero     2000       3000\n",
            "2        Marzo     3000       6000\n",
            "3        Abril     4000      10000\n",
            "4         Mayo     5000      15000\n",
            "5        Junio     6000      21000\n",
            "6        Julio     7000      28000\n",
            "7       Agosto     8000      36000\n",
            "8   Septiembre     9000      45000\n",
            "9      Octubre    10000      55000\n",
            "10   Noviembre    11000      66000\n",
            "11   Diciembre    12000      78000\n",
            "Ingrese la cantidad de metros consumidos de agua potable:\n",
            "1\n",
            "1\n",
            "Cantidad consumidas\n",
            "1\n",
            "1\n",
            "Precio por metro\n",
            "1\n",
            "1\n",
            "Subtotal\n",
            "2\n",
            "IVA del 19%\n",
            "0.38\n",
            "Total a pagar\n",
            "2.38\n",
            "Ingrese su salario: 1500\n",
            "Descuento ISSS:  45.0\n",
            "Descuento AFP:  93.75\n",
            "Descuento ISR:  0.0\n",
            "Su salario neto es:  1361.25\n"
          ]
        }
      ],
      "source": [
        "#medidas de longitud\n",
        "#1 pulgada= 25.40 milimetros\n",
        "#1 yarda= 0.9144 metros\n",
        "\n",
        "#medidas de volumen\n",
        "#2 pie^3= 0.02832 metros^3\n",
        "#2 yarda^3= 0.7646 metros^3\n",
        "\n",
        "#medidas de masa\n",
        "#3 kilogramo= 2,20462262185 libras\n",
        "#3 libra= 0.45359237 kg\n",
        "\n",
        "#medidas de area\n",
        "#4 pie^2= 0.09290304 metros^2\n",
        "#4 yarda^2= 0.83612736 metros^2\n",
        "\n",
        "#medidas de tiempo\n",
        "#5 minuto= 60 segundos\n",
        "#5 hora= 3600 segundos\n",
        "\n",
        "#medidas de almacenamiento\n",
        "#6 kilobyte= 1024 bytes\n",
        "#6 megabyte= 1048576 bytes\n",
        "\n",
        "opcion_medidas= int(input(\"medidas de longitud\\ medidas de volumen\\ medidas de masa\\ medidas de area\\ medidas de tiempo\\ medidas de almacenamiento, Menu Principal:\"))\n",
        "\n",
        "\n",
        "\n",
        "\n",
        "if opcion_medidas == 1:\n",
        " pass\n",
        "\n",
        "print(\"MEDIDAS DE LONGITUD\")\n",
        "\n",
        "opcion= int(input(\"pulgadas a milimetros, yardas a metros, escoja la opcion que guste:\"))\n",
        "\n",
        "print(\"pulgadas a milimetros\")\n",
        "\n",
        "#yardas= metros\n",
        "if opcion_medidas== 1:\n",
        "\n",
        "  print(\"---------------\")\n",
        "\n",
        "  pulgadas= int(input(\"Ingrese la cantidad de pulgadas a convertir:\"))\n",
        "\n",
        "  milimetros= pulgadas*25.40\n",
        "\n",
        "  print(pulgadas, \"pulgadas son\", milimetros, \"milimetros son\")\n",
        "\n",
        "elif opcion_medidas== 2:\n",
        "\n",
        " print (\"---------------\")\n",
        "\n",
        "print(\"yardas a metros\")\n",
        "\n",
        "yardas=int (input (\"Ingrese la cantidad de yardas a convertir: \"))\n",
        "\n",
        "metros = yardas * 0.9144\n",
        "\n",
        "print (yardas, \"yardas equivalen a\", metros, \"metros\")\n",
        "\n",
        "if opcion_medidas == 2:\n",
        "  pass\n",
        "\n",
        "  print(\"MEDIDAS DE VOLUMEN\")\n",
        "\n",
        "  opcion= int(input(\"pie^3 a metros^3, yarda^3 a metros^3, escoja la opcion que guste:\"))\n",
        "\n",
        "  print(\"pie^3 a metros^3\")\n",
        "\n",
        "  #yardas= metros\n",
        "  if opcion_medidas== 1:\n",
        "\n",
        "   print(\"---------------\")\n",
        "  pulgadas= int(input(\"Ingrese la cantidad de pies a convertir:\"))\n",
        "\n",
        "  pie= metros*1.78\n",
        "\n",
        "  print(pie, \"pie son\", metros, \"metros\")\n",
        "\n",
        "if opcion_medidas== 2:\n",
        "\n",
        "  print (\"---------------\")\n",
        "\n",
        "  print(\"yarda^3 a metros^3\")\n",
        "\n",
        "  yardas_3=int (input (\"Ingrese la cantidad de yardas a convertir: \"))\n",
        "\n",
        "  metros_3 = yardas_3 * 0.9144\n",
        "\n",
        "  print (yardas_3, \"yardas equivalen a\", metros, \"metros\")\n",
        "\n",
        "\n",
        "if opcion_medidas== 3:\n",
        "  pass\n",
        "  print (\"---------------\")\n",
        "\n",
        "  print(\"MEDIDAS DE MASA\")\n",
        "\n",
        "  opcion= int(input(\"kilogramo a libras, libra a kilogramo, escoja la opcion que guste:\"))\n",
        "\n",
        "  print(\"kilogramo a libras\")\n",
        "\n",
        "  #kilogramo= libras\n",
        "\n",
        "  if opcion_medidas== 1:\n",
        "\n",
        "   print(\"---------------\")\n",
        "\n",
        "  kilogramo= int(input(\"Ingrese la cantidad de kilogramo a convertir:\"))\n",
        "\n",
        "  libras= kilogramo*2.20462262185\n",
        "\n",
        "\n",
        "\n",
        "  print(kilogramo, \"kilogramo son\", libras, \"libras\")\n",
        "\n",
        "  if opcion_medidas== 2:\n",
        "\n",
        "    print (\"---------------\")\n",
        "\n",
        "  print(\"libras a kilogramo\")\n",
        "\n",
        "  libras= int(input(\"Ingrese la cantidad de libras a convertir:\"))\n",
        "\n",
        "  kilogramo= libras/2.20462262185\n",
        "\n",
        "\n",
        "\n",
        "  print(libras, \"libras son\", kilogramo, \"kilogramo son\")\n",
        "\n",
        "\n",
        "  if opcion_medidas== 4:\n",
        "    pass\n",
        "\n",
        "  print (\"---------------\")\n",
        "\n",
        "  print(\"MEDIDAS DE MASA\")\n",
        "\n",
        "  opcion= int(input(\"pie^2 a metros^2, yarda^2 a metros^2, escoja la opcion que guste:\"))\n",
        "\n",
        "  print(\"pie^2 a metros^2\")\n",
        "\n",
        "   #pie^2= metros^2\n",
        "\n",
        "  if opcion_medidas== 1:\n",
        "\n",
        "    print(\"---------------\")\n",
        "\n",
        "    pie_2= int(input(\"Ingrese la cantidad de pies a convertir:\"))\n",
        "\n",
        "    metros_2= pie_2*0.0929\n",
        "\n",
        "    print(pie^2, \"pie^2 son\", metros^2, \"metros^2 son\")\n",
        "\n",
        "    if opcion_medidas== 2:\n",
        "\n",
        "      print (\"---------------\")\n",
        "\n",
        "      print(\"yarda^2 a metros^2\")\n",
        "\n",
        "      yarda_2=int (input (\"Ingrese la cantidad de yardas a convertir: \"))\n",
        "\n",
        "      metros_2 = yarda_2 * 0.8361\n",
        "\n",
        "      print (yarda_2, \"yardas equivalen a\", metros_2, \"metros^2\")\n",
        "\n",
        "\n",
        "\n",
        "\n",
        "if opcion_medidas == 5:\n",
        "  pass\n",
        "\n",
        "  print (\"---------------\")\n",
        "\n",
        "  print(\"MEDIDAS DE TIEMPO\")\n",
        "\n",
        "  opcion= int(input(\"minuto a segundo, hora a segundo, escoja la opcion que guste:\"))\n",
        "\n",
        "  print(\"1-minuto a segundo\")\n",
        "\n",
        "  #minuto= segundo\n",
        "\n",
        "  if opcion_medidas== 1:\n",
        "\n",
        "    print(\"---------------\")\n",
        "\n",
        "    minuto= int(input(\"Ingrese la cantidad de minutos a convertir:\"))\n",
        "\n",
        "    segundo= minuto*60\n",
        "\n",
        "    print(minuto, \"minutos son\", segundo, \"segundos\")\n",
        "\n",
        "    if opcion_medidas== 2:\n",
        "\n",
        "      print (\"---------------\")\n",
        "\n",
        "      print(\"2-hora a segundo\")\n",
        "\n",
        "      hora=int (input (\"Ingrese la cantidad de horas a convertir: \"))\n",
        "\n",
        "      segundo = hora * 3600\n",
        "\n",
        "      print (hora, \"horas equivalen a\", segundo, \"segundos\")\n",
        "\n",
        "\n",
        "\n",
        "\n",
        "if opcion_medidas == 6:\n",
        "  pass\n",
        "  print (\"---------------\")\n",
        "\n",
        "  print(\"MEDIDAS DE ALMACENAMIENTO\")\n",
        "\n",
        "  opcion= int(input(\"kilobyte a megabyte, megabyte a kilobyte escoja la opcion que guste:\"))\n",
        "\n",
        "  print(\"kilobyte a megabyte\")\n",
        "\n",
        "  #kilobyte= megabyte\n",
        "\n",
        "  if opcion_medidas== 1:\n",
        "\n",
        "    print(\"---------------\")\n",
        "    kilobyte= int(input(\"Ingrese la cantidad de kilobytes a convertir:\"))\n",
        "\n",
        "    megabyte= kilobyte/1024\n",
        "\n",
        "    print(kilobyte, \"kilobytes son\", megabyte, \"megabytes\")\n",
        "\n",
        "import pandas as pd\n",
        "\n",
        "import numpy as np\n",
        "\n",
        "#Definir el numero de meses\n",
        "n = 12\n",
        "#Generar ingresos aleatorios por mes\n",
        "ingresos= np.random.randint(1000,4000, size=n)\n",
        "\n",
        "#Calcular el acumulado\n",
        "Acumulado = np.cumsum(ingresos)\n",
        "\n",
        "#Crear la tabla\n",
        "meses=[f'Mes {i+1}' for i in range(n)]\n",
        "tabla = pd.DataFrame({\n",
        "    'Mes': [\"Enero\", \"Febrero\", \"Marzo\", \"Abril\", \"Mayo\", \"Junio\", \"Julio\", \"Agosto\", \"Septiembre\", \"Octubre\", \"Noviembre\", \"Diciembre\"],\n",
        "    'Ingreso': [1000, 2000, 3000, 4000, 5000, 6000, 7000, 8000, 9000, 10000, 11000, 12000],\n",
        "    'Acumulado': [1000, 3000, 6000, 10000, 15000, 21000, 28000, 36000, 45000, 55000, 66000, 78000]\n",
        "})\n",
        "print(tabla)\n",
        "\n",
        "'''Calcular el valor a pagar según el número de metros consumidos de agua potable\n",
        "   El precio de 2 mts3 es de 6'''\n",
        "\n",
        "'''1.Subtotal\n",
        "2. IVA del 19%.\n",
        "3. Total a pagar.\n",
        "'''\n",
        "print(\"Ingrese la cantidad de metros consumidos de agua potable:\")\n",
        "\n",
        "m1= input()\n",
        "\n",
        "m2= input()\n",
        "\n",
        "print(\"Cantidad consumidas\")\n",
        "\n",
        "m1cantidad= int(input())\n",
        "\n",
        "m2cantidad= int(input())\n",
        "\n",
        "print(\"Precio por metro\")\n",
        "\n",
        "m1precio= int(input())\n",
        "\n",
        "m2precio= int(input())\n",
        "\n",
        "print(\"Subtotal\")\n",
        "\n",
        "subtotal= m1cantidad*m1precio + m2cantidad*m2precio\n",
        "\n",
        "print(subtotal)\n",
        "\n",
        "print(\"IVA del 19%\")\n",
        "\n",
        "iva= subtotal*0.19\n",
        "\n",
        "print(iva)\n",
        "\n",
        "print(\"Total a pagar\")\n",
        "\n",
        "total= subtotal+iva\n",
        "\n",
        "print(total)\n",
        "\n",
        "#Calcular el ISSS, AFP, ISR sobre un sueldo\n",
        "\n",
        "SalarioActual= float(input(\"Ingrese su salario: \"))\n",
        "\n",
        "DescuentoISSS= SalarioActual*0.03\n",
        "\n",
        "DescuentoAFP= SalarioActual*0.0625\n",
        "\n",
        "DescuentoISR= SalarioActual*0.0\n",
        "\n",
        "print(\"Descuento ISSS: \", DescuentoISSS)\n",
        "\n",
        "print(\"Descuento AFP: \", DescuentoAFP)\n",
        "\n",
        "print(\"Descuento ISR: \", DescuentoISR)\n",
        "\n",
        "print(\"Su salario neto es: \", SalarioActual-DescuentoISSS-DescuentoAFP-DescuentoISR)\n",
        "\n",
        "\n",
        "\n",
        "\n",
        "\n",
        "\n",
        "\n",
        "\n",
        "\n",
        "\n",
        "\n",
        "\n",
        "\n",
        "\n",
        "\n"
      ]
    },
    {
      "cell_type": "markdown",
      "metadata": {
        "id": "ZJNW4sFdF2kZ"
      },
      "source": [
        "Ejercicios, solicitar al usuario la edad y determinar su clasificacion."
      ]
    },
    {
      "cell_type": "code",
      "execution_count": null,
      "metadata": {
        "colab": {
          "base_uri": "https://localhost:8080/"
        },
        "id": "e6MIJmONF4A7",
        "outputId": "5f75e25a-ecf0-44e8-d070-c9d165c69b83"
      },
      "outputs": [
        {
          "name": "stdout",
          "output_type": "stream",
          "text": [
            "Ingrese su edad plis:21\n",
            "Bienvenido al mundo de valer madres\n"
          ]
        }
      ],
      "source": [
        "edad= int(input(\"Ingrese su edad plis:\"))\n",
        "if edad >17:\n",
        " print(\"Bienvenido al mundo de valer madres\")"
      ]
    },
    {
      "cell_type": "code",
      "execution_count": null,
      "metadata": {
        "colab": {
          "base_uri": "https://localhost:8080/"
        },
        "id": "3EejtlT0Hd-p",
        "outputId": "d5262d46-5a2f-4995-c750-0ef4a71d8e14"
      },
      "outputs": [
        {
          "name": "stdout",
          "output_type": "stream",
          "text": [
            "Continuar s, sino cualquier tecla:1\n",
            "Eres un bebe\n"
          ]
        }
      ],
      "source": [
        "continuar= input(\"Continuar s, sino cualquier tecla:\")\n",
        "while continuar == \"s\":\n",
        "\n",
        " Edad= int(input(\"Ingrese su edad plis:\"))\n",
        "if edad <0:\n",
        " print(\"Invalido\")\n",
        "elif edad <2:\n",
        "  print(\"Eres un bebe\")\n",
        "elif edad <12:\n",
        " print(\"Eres un niño\")\n",
        "elif edad <18:\n",
        " print(\"Eres un adolescente\")\n",
        "elif edad <60:\n",
        " print(\"Eres un adulto\")\n",
        "else:\n",
        " print(\"Un pie en la tierra y el otro en la tumba bro...\")\n",
        " continuar= input(\"Continuar s, sino cualquier tecla\")\n",
        "\n",
        "\n"
      ]
    },
    {
      "cell_type": "markdown",
      "metadata": {
        "id": "g3OYHAuxKzfc"
      },
      "source": [
        "Solicitar si un numero es positivo o negativo"
      ]
    },
    {
      "cell_type": "code",
      "execution_count": null,
      "metadata": {
        "colab": {
          "base_uri": "https://localhost:8080/"
        },
        "id": "UxnPdFN_Ky9D",
        "outputId": "31cc5f55-ffc1-4ff7-b9b0-2c11d5ee4822"
      },
      "outputs": [
        {
          "name": "stdout",
          "output_type": "stream",
          "text": [
            "Ingrese un numero:0\n",
            "El numero es positivo\n"
          ]
        }
      ],
      "source": [
        "numero= int(input(\"Ingrese un numero:\"))\n",
        "if numero >-1:\n",
        " print(\"El numero es positivo\")\n",
        "else:\n",
        " print(\"El numero es negativo\")"
      ]
    },
    {
      "cell_type": "markdown",
      "metadata": {
        "id": "rgCq3SLQOauF"
      },
      "source": [
        "Solicitar un numero y verificar si es positivo o negativo\n",
        "\n",
        "solicitar una tabla de multiplicar y generarlo"
      ]
    },
    {
      "cell_type": "code",
      "execution_count": null,
      "metadata": {
        "colab": {
          "base_uri": "https://localhost:8080/"
        },
        "id": "0EPgj-QFOnxF",
        "outputId": "cc6657cb-fa40-4dbf-e3bd-6f52b968bdce"
      },
      "outputs": [
        {
          "name": "stdout",
          "output_type": "stream",
          "text": [
            "Tabla:5\n",
            "5 x 1 = 5\n",
            "5 x 2 = 10\n",
            "5 x 3 = 15\n",
            "5 x 4 = 20\n",
            "5 x 5 = 25\n",
            "5 x 6 = 30\n",
            "5 x 7 = 35\n",
            "5 x 8 = 40\n",
            "5 x 9 = 45\n",
            "5 x 10 = 50\n",
            "Continuar s, sino cualquier teclaf\n"
          ]
        }
      ],
      "source": [
        "continuar= \"s\"\n",
        "while continuar == \"s\":\n",
        "\n",
        " tabla= int(input(\"Tabla:\"))\n",
        " for i in range(1,11):\n",
        "  print(tabla, \"x\", i, \"=\", tabla*i)\n",
        " continuar= input(\"Continuar s, sino cualquier tecla\")\n"
      ]
    },
    {
      "cell_type": "markdown",
      "metadata": {
        "id": "im_FFL8L0-zt"
      },
      "source": [
        "conversor de unidades a cajas, libras a saco y unidades a fardo"
      ]
    },
    {
      "cell_type": "code",
      "execution_count": null,
      "metadata": {
        "colab": {
          "base_uri": "https://localhost:8080/"
        },
        "id": "HN3ehZGh8VTv",
        "outputId": "1b648129-a4d6-404d-fba3-3b392e1a2ea8"
      },
      "outputs": [
        {
          "name": "stdout",
          "output_type": "stream",
          "text": [
            "Conversor de las Unidades\n",
            "1. Cajas a Unidades\n",
            "2. Sacos a Libras\n",
            "3. Fardos a Unidades\n",
            "Ingrese el número de la conversión que desea realizar: 1\n",
            "Ingrese la cantidad de cajas: 5\n",
            "5.0 cajas son 125.00 unidades.\n"
          ]
        }
      ],
      "source": [
        "def convertir_cajas_a_unidades(cajas):\n",
        "    return cajas * 25\n",
        "\n",
        "def convertir_sacos_a_libras(sacos):\n",
        "    return sacos * 50\n",
        "\n",
        "def convertir_fardos_a_unidades(fardos):\n",
        "    return fardos * 5\n",
        "\n",
        "\n",
        "def main():\n",
        "    print(\"Conversor de las Unidades\")\n",
        "    print(\"1. Cajas a Unidades\")\n",
        "    print(\"2. Sacos a Libras\")\n",
        "    print(\"3. Fardos a Unidades\")\n",
        "\n",
        "\n",
        "    opcion = int(input(\"Ingrese el número de la conversión que desea realizar: \"))\n",
        "\n",
        "    if opcion == 1:\n",
        "        cajas = float(input(\"Ingrese la cantidad de cajas: \"))\n",
        "        unidades = convertir_cajas_a_unidades(cajas)\n",
        "        print(f\"{cajas} cajas son {unidades:.2f} unidades.\")\n",
        "\n",
        "    elif opcion == 2:\n",
        "        sacos = float(input(\"Ingrese la cantidad de sacos: \"))\n",
        "        libras = convertir_sacos_a_libras(sacos)\n",
        "        print(f\"{sacos} sacos son {libras:.2f} libras.\")\n",
        "\n",
        "    elif opcion == 3:\n",
        "        fardos = float(input(\"Ingrese la cantidad de fardos: \"))\n",
        "        unidades = convertir_fardos_a_unidades(fardos)\n",
        "        print(f\"{fardos} fardos son {unidades:.2f} unidades.\")\n",
        "\n",
        "    else:\n",
        "        print(\"Opción no válida.\")\n",
        "\n",
        "if __name__ == \"__main__\":\n",
        "    main()\n"
      ]
    },
    {
      "cell_type": "code",
      "execution_count": null,
      "metadata": {
        "colab": {
          "base_uri": "https://localhost:8080/"
        },
        "id": "sla-56vu9NiX",
        "outputId": "2e2b0bcc-ceca-4a9c-a7b3-6580cb813d4b"
      },
      "outputs": [
        {
          "name": "stdout",
          "output_type": "stream",
          "text": [
            "Conversor de unidades\n",
            "1. Unidades a cajas\n",
            "2. Libras a sacos\n",
            "3. Unidades a fardos\n",
            "Seleccione una opción: 1\n",
            "Ingrese la cantidad de unidades: 53\n",
            "53.0 unidades son equivalentes a 0.5 cajas.\n"
          ]
        }
      ],
      "source": [
        "def convertir_unidades_a_cajas(unidades):\n",
        "    unidades_por_caja = 3//0.75\n",
        "    cajas = (unidades + unidades_por_caja - 1) // unidades_por_caja\n",
        "    return unidades - cajas * unidades_por_caja + 3.5\n",
        "\n",
        "def _convertir_libras_a_sacos(libras):\n",
        "    sacos_por_libra = 1/5\n",
        "    sacos = (libras + sacos_por_libra - 1) // sacos_por_libra\n",
        "    return libras - sacos * sacos_por_libra + 1.3000000000000003\n",
        "\n",
        "def _convertir_unidades_a_fardos(unidades):\n",
        "    unidades_por_fardo = 5//0.75\n",
        "    fardos = (unidades + unidades_por_fardo - 1) // unidades_por_fardo\n",
        "    return unidades - fardos * unidades_por_fardo + 7.300000000000001\n",
        "def main():\n",
        "\n",
        " print(\"Conversor de unidades\")\n",
        " print(\"1. Unidades a cajas\")\n",
        " print(\"2. Libras a sacos\")\n",
        " print(\"3. Unidades a fardos\")\n",
        "\n",
        " opcion = int(input(\"Seleccione una opción: \"))\n",
        "\n",
        " if opcion == 1:\n",
        "    unidades = float(input(\"Ingrese la cantidad de unidades: \"))\n",
        "    cajas = convertir_unidades_a_cajas(unidades)\n",
        "    print(f\"{unidades} unidades son equivalentes a {cajas} cajas.\")\n",
        "\n",
        " elif opcion == 2:\n",
        "    libras = float(input(\"Ingrese la cantidad de libras: \"))\n",
        "    sacos = _convertir_libras_a_sacos(libras)\n",
        "    print(f\"{libras} libras son equivalentes a {sacos} sacos.\")\n",
        "\n",
        " elif opcion == 3:\n",
        "    unidades = float(input(\"Ingrese la cantidad de unidades: \"))\n",
        "    fardos = _convertir_unidades_a_fardos(unidades)\n",
        "    print(f\"{unidades} unidades son equivalentes a {fardos} fardos.\")\n",
        "\n",
        " else:\n",
        "    print(\"Opción inválida. Por favor, seleccione una opción válida.\")\n",
        "\n",
        "if __name__ == \"__main__\":\n",
        "    main()"
      ]
    },
    {
      "cell_type": "markdown",
      "metadata": {
        "id": "4S8BtctkGB_j"
      },
      "source": [
        "Encontrar de una serie de numeros introducidos por el usuario la varianza"
      ]
    },
    {
      "cell_type": "code",
      "execution_count": null,
      "metadata": {
        "colab": {
          "base_uri": "https://localhost:8080/"
        },
        "id": "u5uFJgs1GZ42",
        "outputId": "c01193a5-8668-4ec7-ac10-9a56f3d1c35e"
      },
      "outputs": [
        {
          "name": "stdout",
          "output_type": "stream",
          "text": [
            "Introduce una serie de números separados por comas:\n",
            "> 1,2,3,4,5\n",
            "La varianza de la serie de números es: 2.00\n"
          ]
        }
      ],
      "source": [
        "def varianza_numeros():\n",
        "    print(\"Introduce una serie de números separados por comas:\")\n",
        "    numeros = input(\"> \")\n",
        "\n",
        "    numeros = [float(x) for x in numeros.split(\",\")]\n",
        "\n",
        "    media = sum(numeros) / len(numeros)\n",
        "\n",
        "    varianza = sum((x - media) ** 2 for x in numeros) / len(numeros)\n",
        "\n",
        "    print(f\"La varianza de la serie de números es: {varianza:.2f}\")\n",
        "\n",
        "varianza_numeros()\n",
        "\n"
      ]
    },
    {
      "cell_type": "code",
      "execution_count": null,
      "metadata": {
        "colab": {
          "base_uri": "https://localhost:8080/"
        },
        "id": "C1Fd98qpGnaD",
        "outputId": "b1eb7f4b-4e81-4aa5-e64b-b5e91cf11c30"
      },
      "outputs": [
        {
          "name": "stdout",
          "output_type": "stream",
          "text": [
            "Introduce una serie de números separados por comas:\n",
            "> 1,1,2,4\n",
            "Frecuencia de cada número:\n",
            "El número 1 aparece 2 veces\n",
            "El número 2 aparece 1 veces\n",
            "El número 4 aparece 1 veces\n"
          ]
        }
      ],
      "source": [
        "def frecuencia_numeros():\n",
        "    print(\"Introduce una serie de números separados por comas:\")\n",
        "    numeros = input(\"> \")\n",
        "\n",
        "    # Convertimos la entrada en una lista de números\n",
        "    numeros = [int(x) for x in numeros.split(\",\")]\n",
        "\n",
        "    # Creamos un diccionario para almacenar la frecuencia de cada número\n",
        "    frecuencia = {}\n",
        "\n",
        "    # Recorremos la lista de números y contamos la frecuencia de cada uno\n",
        "    for numero in numeros:\n",
        "        if numero in frecuencia:\n",
        "            frecuencia[numero] += 1\n",
        "        else:\n",
        "            frecuencia[numero] = 1\n",
        "\n",
        "    # Mostramos la frecuencia de cada número\n",
        "    print(\"Frecuencia de cada número:\")\n",
        "    for numero, freq in frecuencia.items():\n",
        "        print(f\"El número {numero} aparece {freq} veces\")\n",
        "\n",
        "frecuencia_numeros()"
      ]
    },
    {
      "cell_type": "code",
      "execution_count": null,
      "metadata": {
        "colab": {
          "base_uri": "https://localhost:8080/"
        },
        "id": "6Q1b7O2tGpW0",
        "outputId": "a39db599-46f0-4057-c455-20a3e860e493"
      },
      "outputs": [
        {
          "name": "stdout",
          "output_type": "stream",
          "text": [
            "Introduce una palabra: loro\n",
            "\"loro\" no es un palíndrome.\n"
          ]
        }
      ],
      "source": [
        "def es_palindromo(palabra):\n",
        "    # Convertir la palabra a minúsculas para comparación insensible a mayúsculas\n",
        "    palabra = palabra.lower()\n",
        "    # Eliminar espacios y caracteres no alfabéticos\n",
        "    palabra = ''.join(char for char in palabra if char.isalnum())\n",
        "    # Verificar si la palabra es igual a su reverso\n",
        "    return palabra == palabra[::-1]\n",
        "\n",
        "def main():\n",
        "    # Solicitar al usuario que introduzca una palabra\n",
        "    entrada = input(\"Introduce una palabra: \")\n",
        "    # Verificar si la entrada es un palíndrome\n",
        "    if es_palindromo(entrada):\n",
        "        print(f'\"{entrada}\" es un palíndrome.')\n",
        "    else:\n",
        "        print(f'\"{entrada}\" no es un palíndrome.')\n",
        "\n",
        "if __name__ == \"__main__\":\n",
        "    main()"
      ]
    },
    {
      "cell_type": "markdown",
      "metadata": {
        "id": "clAjmvBkIbWF"
      },
      "source": [
        "Impuesto a las actividades economicas"
      ]
    },
    {
      "cell_type": "code",
      "execution_count": null,
      "metadata": {
        "colab": {
          "background_save": true,
          "base_uri": "https://localhost:8080/"
        },
        "id": "M-tGQHBRQqsz",
        "outputId": "fa9347a6-1691-4fe4-b7c1-6c693f7ac3cf"
      },
      "outputs": [
        {
          "name": "stdout",
          "output_type": "stream",
          "text": [
            "Valor a pagar para actividad económica de $1,875.79: 5.63\n",
            "Valor a pagar para actividad económica de $20,000: 43.0\n",
            "Bienvenido al Cajero Automático\n",
            "1. Consultar saldo\n",
            "2. Retirar dinero\n",
            "3. Depositar dinero\n",
            "4. Salir\n"
          ]
        }
      ],
      "source": [
        "impuestos = 0.01\n",
        "precio = float(input(\"Introduce el precio: \"))\n",
        "\n",
        "if precio <= 500.00:\n",
        "  hasta = 16\n",
        "  precio = 1.5\n",
        "  adicional = 1.5\n",
        "elif precio <= 1000.00:\n",
        "  hasta = 14\n",
        "  precio = 1.5\n",
        "  adicional = 3\n",
        "elif precio <= 2000.00:\n",
        "  hasta = 12\n",
        "  precio = 3\n",
        "  adicional = 3\n",
        "  if 2000.01 <= precio <= 3000.00:\n",
        "    precio = 6\n",
        "    adicional = 3\n",
        "  if 3000.01 <= precio <= 6000.00:\n",
        "    precio = 9\n",
        "    adicional = 2\n",
        "  if 8000.01 <= precio <= 18000.00:\n",
        "    precio = 15\n",
        "    adicional = 2\n",
        "# precio = 18000.01 hasta 30000.00 es un 2% precio = 39 adicional = 2\n",
        "# precio = 30000.01 hasta 60000.00 es un 1% precio = 63 adicional = 1\n",
        "# precio = 100000.01 hasta 200000.00 es un 0.8% precio = 125 adicional = 0.7\n",
        "# precio = 200000.01 hasta 300000.00 es un 0.7% precio = 195 adicional = 0.6\n",
        "# precio =\n",
        "\n",
        "def calcular_valor_a_pagar(actividad_economica):\n",
        "    # Ejemplo 1\n",
        "    if actividad_economica <= 1875.79:\n",
        "        monto_fijo = 1000.01\n",
        "        rango = 875.78\n",
        "        adicional = 3\n",
        "        precio = 3\n",
        "        valor_a_pagar = ((actividad_economica - monto_fijo) / 1000) * adicional + precio\n",
        "        return round(valor_a_pagar, 2)\n",
        "\n",
        "    # Ejemplo 2\n",
        "    elif actividad_economica > 18000:\n",
        "        monto_fijo = 18000.01\n",
        "        tarifa = 2\n",
        "        precio = 39\n",
        "        valor_a_pagar = ((actividad_economica - monto_fijo) / 1000) * tarifa + precio\n",
        "        return round(valor_a_pagar, 2)\n",
        "\n",
        "    # Puedes añadir más rangos o casos según sea necesario\n",
        "    else:\n",
        "        return \"Actividad económica fuera del rango definido.\"\n",
        "\n",
        "# Ejemplos de uso\n",
        "actividad_economica1 = 1875.79\n",
        "actividad_economica2 = 20000\n",
        "\n",
        "print(\"Valor a pagar para actividad económica de $1,875.79:\", calcular_valor_a_pagar(actividad_economica1))  # Salida: 5.63\n",
        "print(\"Valor a pagar para actividad económica de $20,000:\", calcular_valor_a_pagar(actividad_economica2))  # Salida: 43.00\n",
        "\n",
        "def mostrar_menu():\n",
        "    print(\"Bienvenido al Cajero Automático\")\n",
        "    print(\"1. Consultar saldo\")\n",
        "    print(\"2. Retirar dinero\")\n",
        "    print(\"3. Depositar dinero\")\n",
        "    print(\"4. Salir\")\n",
        "\n",
        "def consultar_saldo(saldo):\n",
        "    print(f\"Su saldo actual es: ${saldo:.2f}\")\n",
        "\n",
        "def retirar_dinero(saldo):\n",
        "    cantidad = float(input(\"Ingrese la cantidad a retirar: $\"))\n",
        "    if cantidad > saldo:\n",
        "        print(\"Saldo insuficiente.\")\n",
        "    elif cantidad <= 0:\n",
        "        print(\"La cantidad a retirar debe ser mayor que cero.\")\n",
        "    else:\n",
        "        saldo -= cantidad\n",
        "        print(f\"Ha retirado ${cantidad:.2f}.\")\n",
        "    return saldo\n",
        "\n",
        "def depositar_dinero(saldo):\n",
        "    cantidad = float(input(\"Ingrese la cantidad a depositar: $\"))\n",
        "    if cantidad <= 0:\n",
        "        print(\"La cantidad a depositar debe ser mayor que cero.\")\n",
        "    else:\n",
        "        saldo += cantidad\n",
        "        print(f\"Ha depositado ${cantidad:.2f}.\")\n",
        "    return saldo\n",
        "\n",
        "def main():\n",
        "    saldo = 1000.00  # Saldo inicial\n",
        "    while True:\n",
        "        mostrar_menu()\n",
        "        opcion = input(\"Seleccione una opción (1-4): \")\n",
        "\n",
        "        if opcion == '1':\n",
        "            consultar_saldo(saldo)\n",
        "        elif opcion == '2':\n",
        "            saldo = retirar_dinero(saldo)\n",
        "        elif opcion == '3':\n",
        "            saldo = depositar_dinero(saldo)\n",
        "        elif opcion == '4':\n",
        "            print(\"Gracias por usar el cajero automático. ¡Hasta luego!\")\n",
        "            break\n",
        "        else:\n",
        "            print(\"Opción no válida. Por favor, elija una opción del menú.\")\n",
        "\n",
        "if __name__ == \"__main__\":\n",
        "    main()\n",
        "\n",
        "\n",
        "    conversiones = {\n",
        "   1: (\"Pies cuadrados\", 0.092903),\n",
        "   2: (\"Vara cuadrada\", 0.698896),\n",
        "   3: (\"Yardas cuadradas\", 0.836127),\n",
        "   4: (\"Metros cuadrados\", 1),\n",
        "   5: (\"Tarea\", 628.8),\n",
        "   6: (\"Manzana\", 404686),\n",
        "   7: (\"Hectáreas\", 10000),\n",
        "}\n",
        "\n",
        "def mostrar_menu1():\n",
        "    print(\"Elija la unidad de área que desee:\")\n",
        "    for key, (unidad, _) in conversiones.items():\n",
        "        print(f\"{key}. {unidad}\")\n",
        "\n",
        "def mostrar_menu2():\n",
        "    print(\"\\nElija la unidad de área a la que desee convertir:\")\n",
        "    for key, (unidad, _) in conversiones.items():\n",
        "        print(f\"{key}. {unidad}\")\n",
        "\n",
        "def convertir_area():\n",
        "    mostrar_menu1()\n",
        "    origen = int(input(\"Elija la unidad de origen: \"))\n",
        "\n",
        "    mostrar_menu2()\n",
        "    destino = int(input(\"Elija la unidad de destino: \"))\n",
        "\n",
        "    cantidad = float(input(f\"Ingrese la cantidad en {conversiones[origen][0]}: \"))\n",
        "\n",
        "\n",
        "    cantidad_en_m2 = cantidad * conversiones[origen][1]\n",
        "\n",
        "\n",
        "    cantidad_convertida = cantidad_en_m2 / conversiones[destino][1]\n",
        "\n",
        "    print(f\"{cantidad} {conversiones[origen][0]} son {cantidad_convertida:.2f} {conversiones[destino][0]}\")\n",
        "\n",
        "convertir_area()\n",
        "\n",
        "\n"
      ]
    }
  ],
  "metadata": {
    "colab": {
      "provenance": [],
      "authorship_tag": "ABX9TyOmlviOgFTAiuWXuFMrJ1B8",
      "include_colab_link": true
    },
    "kernelspec": {
      "display_name": "Python 3",
      "name": "python3"
    },
    "language_info": {
      "name": "python"
    }
  },
  "nbformat": 4,
  "nbformat_minor": 0
}