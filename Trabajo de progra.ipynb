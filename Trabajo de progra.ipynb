{
  "nbformat": 4,
  "nbformat_minor": 0,
  "metadata": {
    "colab": {
      "provenance": [],
      "authorship_tag": "ABX9TyOSwavdxJfT4bE47PXb5V79",
      "include_colab_link": true
    },
    "kernelspec": {
      "name": "python3",
      "display_name": "Python 3"
    },
    "language_info": {
      "name": "python"
    }
  },
  "cells": [
    {
      "cell_type": "markdown",
      "metadata": {
        "id": "view-in-github",
        "colab_type": "text"
      },
      "source": [
        "<a href=\"https://colab.research.google.com/github/Josuex28/Python/blob/main/Trabajo%20de%20progra.ipynb\" target=\"_parent\"><img src=\"https://colab.research.google.com/assets/colab-badge.svg\" alt=\"Open In Colab\"/></a>"
      ]
    },
    {
      "cell_type": "markdown",
      "source": [
        "Tarea: Convertir grados Celsius a Farenheit"
      ],
      "metadata": {
        "id": "iAPQ4wlU0rZV"
      }
    },
    {
      "cell_type": "markdown",
      "source": [],
      "metadata": {
        "id": "oOn5JoLbE5yj"
      }
    },
    {
      "cell_type": "code",
      "execution_count": null,
      "metadata": {
        "id": "wfaEXRA00qCN"
      },
      "outputs": [],
      "source": [
        "def convertir_cf(c):\n",
        "  return c*1.8 + 32\n",
        "\n"
      ]
    },
    {
      "cell_type": "code",
      "source": [
        "c= float (input(\"Celsius:\"))\n",
        "print(\"F:\", convertir_cf(c))"
      ],
      "metadata": {
        "colab": {
          "base_uri": "https://localhost:8080/"
        },
        "id": "ZkRO16J63brk",
        "outputId": "420dc2c7-8a65-45a9-9a83-208b817367be"
      },
      "execution_count": null,
      "outputs": [
        {
          "output_type": "stream",
          "name": "stdout",
          "text": [
            "Celsius:33\n",
            "F: 91.4\n"
          ]
        }
      ]
    },
    {
      "cell_type": "markdown",
      "source": [
        "Convertir grados Farenheit y Celsius a kelvin"
      ],
      "metadata": {
        "id": "OQF6ib8f7Xkc"
      }
    },
    {
      "cell_type": "code",
      "source": [
        "def convertir_cf(c):\n",
        "  return c*1.8 + 32\n",
        "def convertir_ck(c):\n",
        "  return c + 273.15"
      ],
      "metadata": {
        "id": "blWZVsSNTeeW"
      },
      "execution_count": null,
      "outputs": []
    },
    {
      "cell_type": "code",
      "source": [
        "C= float (input(\"Celsius:\"))\n",
        "print(\"F:\", convertir_cf(C))\n",
        "print(\"K:\", convertir_ck(C))"
      ],
      "metadata": {
        "colab": {
          "base_uri": "https://localhost:8080/"
        },
        "id": "OiVMHz9kUA7o",
        "outputId": "8a93056e-7721-4dfa-b986-9496c05bbdfa"
      },
      "execution_count": null,
      "outputs": [
        {
          "output_type": "stream",
          "name": "stdout",
          "text": [
            "Celsius:1\n",
            "F: -272.15\n",
            "K: -150.74999999999997\n"
          ]
        }
      ]
    },
    {
      "cell_type": "code",
      "source": [
        "def convertir_cf(f):\n",
        "  return (f-32)/1.8\n",
        "def convertir_ck(f):\n",
        "  return (f-32)/1.8 + 273.15\n",
        "\n",
        "\n"
      ],
      "metadata": {
        "id": "zdsBJJEwPUlg"
      },
      "execution_count": null,
      "outputs": []
    },
    {
      "cell_type": "code",
      "source": [
        "c= float (input(\"Farenheit:\"))\n",
        "print(\"C:\", convertir_cf(c))\n",
        "print(\"K:\", convertir_ck(c))"
      ],
      "metadata": {
        "colab": {
          "base_uri": "https://localhost:8080/"
        },
        "id": "ih5KFOPGQdds",
        "outputId": "8b38c10a-3d68-41ed-bef5-ff584cda3e07"
      },
      "execution_count": null,
      "outputs": [
        {
          "output_type": "stream",
          "name": "stdout",
          "text": [
            "Farenheit:1\n",
            "C: -272.15\n",
            "K: -150.74999999999997\n"
          ]
        }
      ]
    },
    {
      "cell_type": "code",
      "source": [
        "def convertir_ck(k):\n",
        "  return k -273.15 /1.8\n",
        "def convertir_cf(k):\n",
        "  return k- 273.15\n"
      ],
      "metadata": {
        "id": "6MSHhe_TXbzz"
      },
      "execution_count": null,
      "outputs": []
    },
    {
      "cell_type": "code",
      "source": [
        "C= float (input(\"Kelvin:\"))\n",
        "print(\"C:\", convertir_cf(C))\n",
        "print(\"F:\", convertir_ck(C))"
      ],
      "metadata": {
        "colab": {
          "base_uri": "https://localhost:8080/"
        },
        "id": "RdmxSil5ZHc9",
        "outputId": "0a0e67b5-818f-4d7c-e7eb-1dcea7a98c97"
      },
      "execution_count": null,
      "outputs": [
        {
          "output_type": "stream",
          "name": "stdout",
          "text": [
            "Kelvin:1\n",
            "C: -272.15\n",
            "F: -150.74999999999997\n"
          ]
        }
      ]
    },
    {
      "cell_type": "markdown",
      "source": [
        "EJERCICIO- Elevar un numero al cuadrado"
      ],
      "metadata": {
        "id": "4uKvCD4D7L7k"
      }
    },
    {
      "cell_type": "code",
      "source": [
        "def elevarcuadrado(base=0,exponente=2):\n",
        "  return base**exponente"
      ],
      "metadata": {
        "id": "LdZYNecm7SaH"
      },
      "execution_count": null,
      "outputs": []
    },
    {
      "cell_type": "code",
      "source": [
        "num= int(input(\"Num:\"))\n",
        "print(\"Cuadrado:\", elevarcuadrado(num,3))"
      ],
      "metadata": {
        "colab": {
          "base_uri": "https://localhost:8080/"
        },
        "id": "B5uYYvNY7oS6",
        "outputId": "4a2ec7ce-2f2c-4ce3-ff0b-9a94b69e5f68"
      },
      "execution_count": null,
      "outputs": [
        {
          "output_type": "stream",
          "name": "stdout",
          "text": [
            "Num:3\n",
            "Cuadrado: 27\n"
          ]
        }
      ]
    },
    {
      "cell_type": "markdown",
      "source": [
        "USANDO FUNCIONES LAMBDA"
      ],
      "metadata": {
        "id": "PK1i4a6m8Rs_"
      }
    },
    {
      "cell_type": "code",
      "source": [
        "elevarcuadradolambda = lambda base, exponente: base**exponente"
      ],
      "metadata": {
        "id": "D_exj4ku8v_l"
      },
      "execution_count": null,
      "outputs": []
    },
    {
      "cell_type": "code",
      "source": [
        "valor= int(input(\"Num:\"))\n",
        "print(\"cuadrado:\", elevarcuadradolambda(valor,2))"
      ],
      "metadata": {
        "colab": {
          "base_uri": "https://localhost:8080/"
        },
        "id": "N4l7fTC-9Fy8",
        "outputId": "39eac90c-80b8-4b24-a07e-417497c42e4f"
      },
      "execution_count": null,
      "outputs": [
        {
          "output_type": "stream",
          "name": "stdout",
          "text": [
            "Num:3\n",
            "cuadrado: 9\n"
          ]
        }
      ]
    },
    {
      "cell_type": "code",
      "source": [
        "serie = [5,4,3,2,6,7]\n",
        "resp = map(lambda x:x**2, serie)\n",
        "print(list(resp))\n",
        "\n",
        "resp2= map(elevarcuadrado, serie)\n",
        "print(list(resp2))"
      ],
      "metadata": {
        "colab": {
          "base_uri": "https://localhost:8080/"
        },
        "id": "wvMOVjQ9_c9P",
        "outputId": "e8bda850-4d30-4ba0-8af3-9179f4c8c090"
      },
      "execution_count": null,
      "outputs": [
        {
          "output_type": "stream",
          "name": "stdout",
          "text": [
            "[25, 16, 9, 4, 36, 49]\n",
            "[25, 16, 9, 4, 36, 49]\n"
          ]
        }
      ]
    },
    {
      "cell_type": "markdown",
      "source": [
        "EJERCICIO: Obtener la raiz cuadrada de una serie de numeros fijos"
      ],
      "metadata": {
        "id": "vtja8tpVDCnb"
      }
    },
    {
      "cell_type": "code",
      "source": [
        "serie = [10, 20, 30, 40]\n",
        "resp = list (map(lambda x: x** 0.5, serie))\n",
        "print(resp)"
      ],
      "metadata": {
        "colab": {
          "base_uri": "https://localhost:8080/"
        },
        "id": "6HQuwi1hDKm0",
        "outputId": "f0b6b8c1-3177-4131-cf3c-53ee5b95c742"
      },
      "execution_count": null,
      "outputs": [
        {
          "output_type": "stream",
          "name": "stdout",
          "text": [
            "[3.1622776601683795, 4.47213595499958, 5.477225575051661, 6.324555320336759]\n"
          ]
        }
      ]
    },
    {
      "cell_type": "markdown",
      "source": [
        "Ejercicio"
      ],
      "metadata": {
        "id": "lU46KXdfjZy9"
      }
    },
    {
      "cell_type": "code",
      "source": [
        "elevarcuadradolambda= lambda base, exponente: base**exponente"
      ],
      "metadata": {
        "id": "h7wfILZ6jgNm"
      },
      "execution_count": null,
      "outputs": []
    },
    {
      "cell_type": "code",
      "source": [
        "valor= int(input(\"Num:\"))\n",
        "print(\"cuadrado\", elevarcuadradolambda(valor,3))\n"
      ],
      "metadata": {
        "colab": {
          "base_uri": "https://localhost:8080/"
        },
        "id": "jPUrkWWHlGzS",
        "outputId": "75ff5981-6ae0-421d-bba6-e544067a2c2b"
      },
      "execution_count": null,
      "outputs": [
        {
          "output_type": "stream",
          "name": "stdout",
          "text": [
            "Num:2\n",
            "cuadrado 8\n"
          ]
        }
      ]
    },
    {
      "cell_type": "code",
      "source": [
        "serie= [8,7,6,5,4]\n",
        "resp= map(lambda x:x**3, serie)\n",
        "print(list(resp))\n",
        "\n",
        "resp2 = (map, serie)\n",
        "print(list(resp2))"
      ],
      "metadata": {
        "colab": {
          "base_uri": "https://localhost:8080/"
        },
        "id": "ZxFfu2don_Ty",
        "outputId": "1dc411cf-4697-4483-80a6-083682e56ec9"
      },
      "execution_count": null,
      "outputs": [
        {
          "output_type": "stream",
          "name": "stdout",
          "text": [
            "[512, 343, 216, 125, 64]\n",
            "[<class 'map'>, [8, 7, 6, 5, 4]]\n"
          ]
        }
      ]
    },
    {
      "cell_type": "markdown",
      "source": [
        "Clase de progra"
      ],
      "metadata": {
        "id": "yhhiUQ8q-8R5"
      }
    },
    {
      "cell_type": "code",
      "source": [
        "def obtenerNota(nota, eval):\n",
        " return eval[1]*0.3 + nota"
      ],
      "metadata": {
        "id": "kgg68fzo_BSk"
      },
      "execution_count": null,
      "outputs": []
    },
    {
      "cell_type": "code",
      "source": [
        "matriz = [ [\"Lab1\", 6],[\"Lab2\", 8], [\"Parcial\", 7] ] #6*0.3= 1.8 + 8*0.3= 2.4 + 7*0.3= 2.1\n",
        "reduce(obtenerNota, matriz, 0)"
      ],
      "metadata": {
        "colab": {
          "base_uri": "https://localhost:8080/"
        },
        "id": "hoWSOQE6HMC0",
        "outputId": "c4e5b4e7-46e4-45c1-a387-b5e6383d9b88"
      },
      "execution_count": null,
      "outputs": [
        {
          "output_type": "execute_result",
          "data": {
            "text/plain": [
              "6.299999999999999"
            ]
          },
          "metadata": {},
          "execution_count": 15
        }
      ]
    },
    {
      "cell_type": "code",
      "source": [
        "def obtenerNotaFinal(nota, eval):\n",
        "  return eval[1]*0.3 + nota\n",
        "\n",
        "\n"
      ],
      "metadata": {
        "id": "J73gGi_hyq_8"
      },
      "execution_count": null,
      "outputs": []
    },
    {
      "cell_type": "code",
      "source": [
        "from functools import reduce\n",
        "matriz = [ [\"Lab1\", 7],[\"Lab2\", 9], [\"Parcial\", 9] ]\n",
        "reduce(obtenerNotaFinal, matriz, 0)"
      ],
      "metadata": {
        "colab": {
          "base_uri": "https://localhost:8080/"
        },
        "id": "mmqKbWcK0Sh-",
        "outputId": "8c69763a-9f99-481d-e08c-6a43f73e1ebe"
      },
      "execution_count": null,
      "outputs": [
        {
          "output_type": "execute_result",
          "data": {
            "text/plain": [
              "7.5"
            ]
          },
          "metadata": {},
          "execution_count": 3
        }
      ]
    },
    {
      "cell_type": "code",
      "source": [
        "serie= [2,3,4,5,6]\n",
        "resp= map(lambda x:x*2, serie)\n",
        "\n",
        "resp2=(map, serie)\n",
        "print (list(resp))"
      ],
      "metadata": {
        "colab": {
          "base_uri": "https://localhost:8080/"
        },
        "id": "EWRDj78B1OhF",
        "outputId": "ff2d8c76-603b-452e-dd9f-807b528ae7e5"
      },
      "execution_count": null,
      "outputs": [
        {
          "output_type": "stream",
          "name": "stdout",
          "text": [
            "[4, 6, 8, 10, 12]\n"
          ]
        }
      ]
    },
    {
      "cell_type": "markdown",
      "source": [
        "Conversor de longitud, masa, tiempo, almacenamiento, volumen y areas."
      ],
      "metadata": {
        "id": "xnldlk5JC4-t"
      }
    },
    {
      "cell_type": "code",
      "source": [
        "#medidas de longitud\n",
        "#1 pulgada= 25.40 milimetros\n",
        "#1 yarda= 0.9144 metros\n",
        "\n",
        "#medidas de volumen\n",
        "#2 pie^3= 0.02832 metros^3\n",
        "#2 yarda^3= 0.7646 metros^3\n",
        "\n",
        "#medidas de masa\n",
        "#3 kilogramo= 2,20462262185 libras\n",
        "#3 libra= 0.45359237 kg\n",
        "\n",
        "#medidas de area\n",
        "#4 pie^2= 0.09290304 metros^2\n",
        "#4 yarda^2= 0.83612736 metros^2\n",
        "\n",
        "#medidas de tiempo\n",
        "#5 minuto= 60 segundos\n",
        "#5 hora= 3600 segundos\n",
        "\n",
        "#medidas de almacenamiento\n",
        "#6 kilobyte= 1024 bytes\n",
        "#6 megabyte= 1048576 bytes\n",
        "\n",
        "opcion_medidas= int(input(\"medidas de longitud\\ medidas de volumen\\ medidas de masa\\ medidas de area\\ medidas de tiempo\\ medidas de almacenamiento, Menu Principal:\"))\n",
        "\n",
        "\n",
        "\n",
        "\n",
        "if opcion_medidas == 1:\n",
        " pass\n",
        "\n",
        "print(\"MEDIDAS DE LONGITUD\")\n",
        "\n",
        "opcion= int(input(\"pulgadas a milimetros, yardas a metros, escoja la opcion que guste:\"))\n",
        "\n",
        "print(\"pulgadas a milimetros\")\n",
        "\n",
        "#yardas= metros\n",
        "if opcion_medidas== 1:\n",
        "\n",
        "  print(\"---------------\")\n",
        "\n",
        "  pulgadas= int(input(\"Ingrese la cantidad de pulgadas a convertir:\"))\n",
        "\n",
        "  milimetros= pulgadas*25.40\n",
        "\n",
        "  print(pulgadas, \"pulgadas son\", milimetros, \"milimetros son\")\n",
        "\n",
        "elif opcion_medidas== 2:\n",
        "\n",
        " print (\"---------------\")\n",
        "\n",
        "print(\"yardas a metros\")\n",
        "\n",
        "yardas=int (input (\"Ingrese la cantidad de yardas a convertir: \"))\n",
        "\n",
        "metros = yardas * 0.9144\n",
        "\n",
        "print (yardas, \"yardas equivalen a\", metros, \"metros\")\n",
        "\n",
        "if opcion_medidas == 2:\n",
        "  pass\n",
        "\n",
        "  print(\"MEDIDAS DE VOLUMEN\")\n",
        "\n",
        "  opcion= int(input(\"pie^3 a metros^3, yarda^3 a metros^3, escoja la opcion que guste:\"))\n",
        "\n",
        "  print(\"pie^3 a metros^3\")\n",
        "\n",
        "  #yardas= metros\n",
        "  if opcion_medidas== 1:\n",
        "\n",
        "   print(\"---------------\")\n",
        "  pulgadas= int(input(\"Ingrese la cantidad de pies a convertir:\"))\n",
        "\n",
        "  pie= metros*1.78\n",
        "\n",
        "  print(pie, \"pie son\", metros, \"metros\")\n",
        "\n",
        "if opcion_medidas== 2:\n",
        "\n",
        "  print (\"---------------\")\n",
        "\n",
        "  print(\"yarda^3 a metros^3\")\n",
        "\n",
        "  yardas_3=int (input (\"Ingrese la cantidad de yardas a convertir: \"))\n",
        "\n",
        "  metros_3 = yardas_3 * 0.9144\n",
        "\n",
        "  print (yardas_3, \"yardas equivalen a\", metros, \"metros\")\n",
        "\n",
        "\n",
        "if opcion_medidas== 3:\n",
        "  pass\n",
        "  print (\"---------------\")\n",
        "\n",
        "  print(\"MEDIDAS DE MASA\")\n",
        "\n",
        "  opcion= int(input(\"kilogramo a libras, libra a kilogramo, escoja la opcion que guste:\"))\n",
        "\n",
        "  print(\"kilogramo a libras\")\n",
        "\n",
        "  #kilogramo= libras\n",
        "\n",
        "  if opcion_medidas== 1:\n",
        "\n",
        "   print(\"---------------\")\n",
        "\n",
        "  kilogramo= int(input(\"Ingrese la cantidad de kilogramo a convertir:\"))\n",
        "\n",
        "  libras= kilogramo*2.20462262185\n",
        "\n",
        "\n",
        "\n",
        "  print(kilogramo, \"kilogramo son\", libras, \"libras\")\n",
        "\n",
        "  if opcion_medidas== 2:\n",
        "\n",
        "    print (\"---------------\")\n",
        "\n",
        "  print(\"libras a kilogramo\")\n",
        "\n",
        "  libras= int(input(\"Ingrese la cantidad de libras a convertir:\"))\n",
        "\n",
        "  kilogramo= libras/2.20462262185\n",
        "\n",
        "\n",
        "\n",
        "  print(libras, \"libras son\", kilogramo, \"kilogramo son\")\n",
        "\n",
        "\n",
        "  if opcion_medidas== 4:\n",
        "    pass\n",
        "\n",
        "  print (\"---------------\")\n",
        "\n",
        "  print(\"MEDIDAS DE MASA\")\n",
        "\n",
        "  opcion= int(input(\"pie^2 a metros^2, yarda^2 a metros^2, escoja la opcion que guste:\"))\n",
        "\n",
        "  print(\"pie^2 a metros^2\")\n",
        "\n",
        "   #pie^2= metros^2\n",
        "\n",
        "  if opcion_medidas== 1:\n",
        "\n",
        "    print(\"---------------\")\n",
        "\n",
        "    pie_2= int(input(\"Ingrese la cantidad de pies a convertir:\"))\n",
        "\n",
        "    metros_2= pie_2*0.0929\n",
        "\n",
        "    print(pie^2, \"pie^2 son\", metros^2, \"metros^2 son\")\n",
        "\n",
        "    if opcion_medidas== 2:\n",
        "\n",
        "      print (\"---------------\")\n",
        "\n",
        "      print(\"yarda^2 a metros^2\")\n",
        "\n",
        "      yarda_2=int (input (\"Ingrese la cantidad de yardas a convertir: \"))\n",
        "\n",
        "      metros_2 = yarda_2 * 0.8361\n",
        "\n",
        "      print (yarda_2, \"yardas equivalen a\", metros_2, \"metros^2\")\n",
        "\n",
        "\n",
        "\n",
        "\n",
        "if opcion_medidas == 5:\n",
        "  pass\n",
        "\n",
        "  print (\"---------------\")\n",
        "\n",
        "  print(\"MEDIDAS DE TIEMPO\")\n",
        "\n",
        "  opcion= int(input(\"minuto a segundo, hora a segundo, escoja la opcion que guste:\"))\n",
        "\n",
        "  print(\"1-minuto a segundo\")\n",
        "\n",
        "  #minuto= segundo\n",
        "\n",
        "  if opcion_medidas== 1:\n",
        "\n",
        "    print(\"---------------\")\n",
        "\n",
        "    minuto= int(input(\"Ingrese la cantidad de minutos a convertir:\"))\n",
        "\n",
        "    segundo= minuto*60\n",
        "\n",
        "    print(minuto, \"minutos son\", segundo, \"segundos\")\n",
        "\n",
        "    if opcion_medidas== 2:\n",
        "\n",
        "      print (\"---------------\")\n",
        "\n",
        "      print(\"2-hora a segundo\")\n",
        "\n",
        "      hora=int (input (\"Ingrese la cantidad de horas a convertir: \"))\n",
        "\n",
        "      segundo = hora * 3600\n",
        "\n",
        "      print (hora, \"horas equivalen a\", segundo, \"segundos\")\n",
        "\n",
        "\n",
        "\n",
        "\n",
        "if opcion_medidas == 6:\n",
        "  pass\n",
        "  print (\"---------------\")\n",
        "\n",
        "  print(\"MEDIDAS DE ALMACENAMIENTO\")\n",
        "\n",
        "  opcion= int(input(\"kilobyte a megabyte, megabyte a kilobyte escoja la opcion que guste:\"))\n",
        "\n",
        "  print(\"kilobyte a megabyte\")\n",
        "\n",
        "  #kilobyte= megabyte\n",
        "\n",
        "  if opcion_medidas== 1:\n",
        "\n",
        "    print(\"---------------\")\n",
        "    kilobyte= int(input(\"Ingrese la cantidad de kilobytes a convertir:\"))\n",
        "\n",
        "    megabyte= kilobyte/1024\n",
        "\n",
        "    print(kilobyte, \"kilobytes son\", megabyte, \"megabytes\")\n",
        "\n",
        "\n",
        "\n"
      ],
      "metadata": {
        "id": "QNIxjlkVDGXX",
        "colab": {
          "base_uri": "https://localhost:8080/",
          "height": 406
        },
        "outputId": "a13810fc-c25f-43fa-b0dc-b365b427ebac"
      },
      "execution_count": 7,
      "outputs": [
        {
          "output_type": "stream",
          "name": "stdout",
          "text": [
            "medidas de longitud\\ medidas de volumen\\ medidas de masa\\ medidas de area\\ medidas de tiempo\\ medidas de almacenamiento, Menu Principal:2\n",
            "MEDIDAS DE LONGITUD\n"
          ]
        },
        {
          "output_type": "error",
          "ename": "KeyboardInterrupt",
          "evalue": "Interrupted by user",
          "traceback": [
            "\u001b[0;31m---------------------------------------------------------------------------\u001b[0m",
            "\u001b[0;31mKeyboardInterrupt\u001b[0m                         Traceback (most recent call last)",
            "\u001b[0;32m<ipython-input-7-a8fb25141712>\u001b[0m in \u001b[0;36m<cell line: 35>\u001b[0;34m()\u001b[0m\n\u001b[1;32m     33\u001b[0m \u001b[0mprint\u001b[0m\u001b[0;34m(\u001b[0m\u001b[0;34m\"MEDIDAS DE LONGITUD\"\u001b[0m\u001b[0;34m)\u001b[0m\u001b[0;34m\u001b[0m\u001b[0;34m\u001b[0m\u001b[0m\n\u001b[1;32m     34\u001b[0m \u001b[0;34m\u001b[0m\u001b[0m\n\u001b[0;32m---> 35\u001b[0;31m \u001b[0mopcion\u001b[0m\u001b[0;34m=\u001b[0m \u001b[0mint\u001b[0m\u001b[0;34m(\u001b[0m\u001b[0minput\u001b[0m\u001b[0;34m(\u001b[0m\u001b[0;34m\"pulgadas a milimetros, yardas a metros, escoja la opcion que guste:\"\u001b[0m\u001b[0;34m)\u001b[0m\u001b[0;34m)\u001b[0m\u001b[0;34m\u001b[0m\u001b[0;34m\u001b[0m\u001b[0m\n\u001b[0m\u001b[1;32m     36\u001b[0m \u001b[0;34m\u001b[0m\u001b[0m\n\u001b[1;32m     37\u001b[0m \u001b[0mprint\u001b[0m\u001b[0;34m(\u001b[0m\u001b[0;34m\"pulgadas a milimetros\"\u001b[0m\u001b[0;34m)\u001b[0m\u001b[0;34m\u001b[0m\u001b[0;34m\u001b[0m\u001b[0m\n",
            "\u001b[0;32m/usr/local/lib/python3.10/dist-packages/ipykernel/kernelbase.py\u001b[0m in \u001b[0;36mraw_input\u001b[0;34m(self, prompt)\u001b[0m\n\u001b[1;32m    849\u001b[0m                 \u001b[0;34m\"raw_input was called, but this frontend does not support input requests.\"\u001b[0m\u001b[0;34m\u001b[0m\u001b[0;34m\u001b[0m\u001b[0m\n\u001b[1;32m    850\u001b[0m             )\n\u001b[0;32m--> 851\u001b[0;31m         return self._input_request(str(prompt),\n\u001b[0m\u001b[1;32m    852\u001b[0m             \u001b[0mself\u001b[0m\u001b[0;34m.\u001b[0m\u001b[0m_parent_ident\u001b[0m\u001b[0;34m,\u001b[0m\u001b[0;34m\u001b[0m\u001b[0;34m\u001b[0m\u001b[0m\n\u001b[1;32m    853\u001b[0m             \u001b[0mself\u001b[0m\u001b[0;34m.\u001b[0m\u001b[0m_parent_header\u001b[0m\u001b[0;34m,\u001b[0m\u001b[0;34m\u001b[0m\u001b[0;34m\u001b[0m\u001b[0m\n",
            "\u001b[0;32m/usr/local/lib/python3.10/dist-packages/ipykernel/kernelbase.py\u001b[0m in \u001b[0;36m_input_request\u001b[0;34m(self, prompt, ident, parent, password)\u001b[0m\n\u001b[1;32m    893\u001b[0m             \u001b[0;32mexcept\u001b[0m \u001b[0mKeyboardInterrupt\u001b[0m\u001b[0;34m:\u001b[0m\u001b[0;34m\u001b[0m\u001b[0;34m\u001b[0m\u001b[0m\n\u001b[1;32m    894\u001b[0m                 \u001b[0;31m# re-raise KeyboardInterrupt, to truncate traceback\u001b[0m\u001b[0;34m\u001b[0m\u001b[0;34m\u001b[0m\u001b[0m\n\u001b[0;32m--> 895\u001b[0;31m                 \u001b[0;32mraise\u001b[0m \u001b[0mKeyboardInterrupt\u001b[0m\u001b[0;34m(\u001b[0m\u001b[0;34m\"Interrupted by user\"\u001b[0m\u001b[0;34m)\u001b[0m \u001b[0;32mfrom\u001b[0m \u001b[0;32mNone\u001b[0m\u001b[0;34m\u001b[0m\u001b[0;34m\u001b[0m\u001b[0m\n\u001b[0m\u001b[1;32m    896\u001b[0m             \u001b[0;32mexcept\u001b[0m \u001b[0mException\u001b[0m \u001b[0;32mas\u001b[0m \u001b[0me\u001b[0m\u001b[0;34m:\u001b[0m\u001b[0;34m\u001b[0m\u001b[0;34m\u001b[0m\u001b[0m\n\u001b[1;32m    897\u001b[0m                 \u001b[0mself\u001b[0m\u001b[0;34m.\u001b[0m\u001b[0mlog\u001b[0m\u001b[0;34m.\u001b[0m\u001b[0mwarning\u001b[0m\u001b[0;34m(\u001b[0m\u001b[0;34m\"Invalid Message:\"\u001b[0m\u001b[0;34m,\u001b[0m \u001b[0mexc_info\u001b[0m\u001b[0;34m=\u001b[0m\u001b[0;32mTrue\u001b[0m\u001b[0;34m)\u001b[0m\u001b[0;34m\u001b[0m\u001b[0;34m\u001b[0m\u001b[0m\n",
            "\u001b[0;31mKeyboardInterrupt\u001b[0m: Interrupted by user"
          ]
        }
      ]
    }
  ]
}