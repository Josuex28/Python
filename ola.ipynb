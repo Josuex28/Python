{
  "nbformat": 4,
  "nbformat_minor": 0,
  "metadata": {
    "colab": {
      "provenance": [],
      "authorship_tag": "ABX9TyO6WtjG4g8opsoq2b5dk9gs",
      "include_colab_link": true
    },
    "kernelspec": {
      "name": "python3",
      "display_name": "Python 3"
    },
    "language_info": {
      "name": "python"
    }
  },
  "cells": [
    {
      "cell_type": "markdown",
      "metadata": {
        "id": "view-in-github",
        "colab_type": "text"
      },
      "source": [
        "<a href=\"https://colab.research.google.com/github/Josuex28/Python/blob/main/ola.ipynb\" target=\"_parent\"><img src=\"https://colab.research.google.com/assets/colab-badge.svg\" alt=\"Open In Colab\"/></a>"
      ]
    },
    {
      "cell_type": "markdown",
      "source": [
        "Tarea: Convertir grados Celsius a Farenheit"
      ],
      "metadata": {
        "id": "iAPQ4wlU0rZV"
      }
    },
    {
      "cell_type": "markdown",
      "source": [],
      "metadata": {
        "id": "oOn5JoLbE5yj"
      }
    },
    {
      "cell_type": "code",
      "execution_count": null,
      "metadata": {
        "id": "wfaEXRA00qCN"
      },
      "outputs": [],
      "source": [
        "def convertir_cf(c):\n",
        "  return c*1.8 + 32\n",
        "\n"
      ]
    },
    {
      "cell_type": "code",
      "source": [
        "c= float (input(\"Celsius:\"))\n",
        "print(\"F:\", convertir_cf(c))"
      ],
      "metadata": {
        "colab": {
          "base_uri": "https://localhost:8080/"
        },
        "id": "ZkRO16J63brk",
        "outputId": "420dc2c7-8a65-45a9-9a83-208b817367be"
      },
      "execution_count": null,
      "outputs": [
        {
          "output_type": "stream",
          "name": "stdout",
          "text": [
            "Celsius:33\n",
            "F: 91.4\n"
          ]
        }
      ]
    },
    {
      "cell_type": "markdown",
      "source": [
        "Convertir grados Farenheit y Celsius a kelvin"
      ],
      "metadata": {
        "id": "OQF6ib8f7Xkc"
      }
    },
    {
      "cell_type": "code",
      "source": [
        "def convertir_cf(c):\n",
        "  return c*1.8 + 32\n",
        "def convertir_ck(c):\n",
        "  return c + 273.15"
      ],
      "metadata": {
        "id": "blWZVsSNTeeW"
      },
      "execution_count": null,
      "outputs": []
    },
    {
      "cell_type": "code",
      "source": [
        "C= float (input(\"Celsius:\"))\n",
        "print(\"F:\", convertir_cf(C))\n",
        "print(\"K:\", convertir_ck(C))"
      ],
      "metadata": {
        "colab": {
          "base_uri": "https://localhost:8080/"
        },
        "id": "OiVMHz9kUA7o",
        "outputId": "a3c27d28-78fd-49ed-8ac2-829036404eb4"
      },
      "execution_count": null,
      "outputs": [
        {
          "output_type": "stream",
          "name": "stdout",
          "text": [
            "Celsius:33\n",
            "F: 91.4\n",
            "K: 306.15\n"
          ]
        }
      ]
    },
    {
      "cell_type": "code",
      "source": [
        "def convertir_cf(f):\n",
        "  return (f-32)/1.8\n",
        "def convertir_ck(f):\n",
        "  return (f-32)/1.8 + 273.15\n",
        "\n",
        "\n"
      ],
      "metadata": {
        "id": "zdsBJJEwPUlg"
      },
      "execution_count": null,
      "outputs": []
    },
    {
      "cell_type": "code",
      "source": [
        "c= float (input(\"Farenheit:\"))\n",
        "print(\"C:\", convertir_cf(c))\n",
        "print(\"K:\", convertir_ck(c))"
      ],
      "metadata": {
        "colab": {
          "base_uri": "https://localhost:8080/"
        },
        "id": "ih5KFOPGQdds",
        "outputId": "7d0540c8-2f2b-43cf-b344-a9a546842f96"
      },
      "execution_count": null,
      "outputs": [
        {
          "output_type": "stream",
          "name": "stdout",
          "text": [
            "Farenheit:91.4\n",
            "C: 33.0\n",
            "K: 306.15\n"
          ]
        }
      ]
    },
    {
      "cell_type": "code",
      "source": [
        "def convertir_ck(k):\n",
        "  return k -273.15 /1.8\n",
        "def convertir_cf(k):\n",
        "  return k -273.15"
      ],
      "metadata": {
        "id": "6MSHhe_TXbzz"
      },
      "execution_count": 123,
      "outputs": []
    },
    {
      "cell_type": "code",
      "source": [
        "C= float (input(\"Kelvin:\"))\n",
        "print(\"C:\", convertir_cf(C))\n",
        "print(\"F:\", convertir_ck(C))"
      ],
      "metadata": {
        "colab": {
          "base_uri": "https://localhost:8080/"
        },
        "id": "RdmxSil5ZHc9",
        "outputId": "f6473d55-92d8-4731-efbb-a01ce9518c8d"
      },
      "execution_count": 122,
      "outputs": [
        {
          "output_type": "stream",
          "name": "stdout",
          "text": [
            "Kelvin:300\n",
            "C: 26.850000000000023\n",
            "F: 148.25000000000003\n"
          ]
        }
      ]
    }
  ]
}