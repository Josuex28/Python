{
  "nbformat": 4,
  "nbformat_minor": 0,
  "metadata": {
    "colab": {
      "provenance": [],
      "authorship_tag": "ABX9TyNezFKhPe634XKGHwX6bXkD",
      "include_colab_link": true
    },
    "kernelspec": {
      "name": "python3",
      "display_name": "Python 3"
    },
    "language_info": {
      "name": "python"
    }
  },
  "cells": [
    {
      "cell_type": "markdown",
      "metadata": {
        "id": "view-in-github",
        "colab_type": "text"
      },
      "source": [
        "<a href=\"https://colab.research.google.com/github/Josuex28/Python/blob/main/Clase%20de%20prograIII.ipynb\" target=\"_parent\"><img src=\"https://colab.research.google.com/assets/colab-badge.svg\" alt=\"Open In Colab\"/></a>"
      ]
    },
    {
      "cell_type": "markdown",
      "source": [
        "Tarea: Convertir grados Celsius a Farenheit"
      ],
      "metadata": {
        "id": "iAPQ4wlU0rZV"
      }
    },
    {
      "cell_type": "markdown",
      "source": [],
      "metadata": {
        "id": "oOn5JoLbE5yj"
      }
    },
    {
      "cell_type": "code",
      "execution_count": null,
      "metadata": {
        "id": "wfaEXRA00qCN"
      },
      "outputs": [],
      "source": [
        "def convertir_cf(c):\n",
        "  return c*1.8 + 32\n",
        "\n"
      ]
    },
    {
      "cell_type": "code",
      "source": [
        "c= float (input(\"Celsius:\"))\n",
        "print(\"F:\", convertir_cf(c))"
      ],
      "metadata": {
        "colab": {
          "base_uri": "https://localhost:8080/"
        },
        "id": "ZkRO16J63brk",
        "outputId": "420dc2c7-8a65-45a9-9a83-208b817367be"
      },
      "execution_count": null,
      "outputs": [
        {
          "output_type": "stream",
          "name": "stdout",
          "text": [
            "Celsius:33\n",
            "F: 91.4\n"
          ]
        }
      ]
    },
    {
      "cell_type": "markdown",
      "source": [
        "Convertir grados Farenheit y Celsius a kelvin"
      ],
      "metadata": {
        "id": "OQF6ib8f7Xkc"
      }
    },
    {
      "cell_type": "code",
      "source": [
        "def convertir_cf(c):\n",
        "  return c*1.8 + 32\n",
        "def convertir_ck(c):\n",
        "  return c + 273.15"
      ],
      "metadata": {
        "id": "blWZVsSNTeeW"
      },
      "execution_count": null,
      "outputs": []
    },
    {
      "cell_type": "code",
      "source": [
        "C= float (input(\"Celsius:\"))\n",
        "print(\"F:\", convertir_cf(C))\n",
        "print(\"K:\", convertir_ck(C))"
      ],
      "metadata": {
        "colab": {
          "base_uri": "https://localhost:8080/"
        },
        "id": "OiVMHz9kUA7o",
        "outputId": "8a93056e-7721-4dfa-b986-9496c05bbdfa"
      },
      "execution_count": 48,
      "outputs": [
        {
          "output_type": "stream",
          "name": "stdout",
          "text": [
            "Celsius:1\n",
            "F: -272.15\n",
            "K: -150.74999999999997\n"
          ]
        }
      ]
    },
    {
      "cell_type": "code",
      "source": [
        "def convertir_cf(f):\n",
        "  return (f-32)/1.8\n",
        "def convertir_ck(f):\n",
        "  return (f-32)/1.8 + 273.15\n",
        "\n",
        "\n"
      ],
      "metadata": {
        "id": "zdsBJJEwPUlg"
      },
      "execution_count": null,
      "outputs": []
    },
    {
      "cell_type": "code",
      "source": [
        "c= float (input(\"Farenheit:\"))\n",
        "print(\"C:\", convertir_cf(c))\n",
        "print(\"K:\", convertir_ck(c))"
      ],
      "metadata": {
        "colab": {
          "base_uri": "https://localhost:8080/"
        },
        "id": "ih5KFOPGQdds",
        "outputId": "8b38c10a-3d68-41ed-bef5-ff584cda3e07"
      },
      "execution_count": 49,
      "outputs": [
        {
          "output_type": "stream",
          "name": "stdout",
          "text": [
            "Farenheit:1\n",
            "C: -272.15\n",
            "K: -150.74999999999997\n"
          ]
        }
      ]
    },
    {
      "cell_type": "code",
      "source": [
        "def convertir_ck(k):\n",
        "  return k -273.15 /1.8\n",
        "def convertir_cf(k):\n",
        "  return k- 273.15\n"
      ],
      "metadata": {
        "id": "6MSHhe_TXbzz"
      },
      "execution_count": 46,
      "outputs": []
    },
    {
      "cell_type": "code",
      "source": [
        "C= float (input(\"Kelvin:\"))\n",
        "print(\"C:\", convertir_cf(C))\n",
        "print(\"F:\", convertir_ck(C))"
      ],
      "metadata": {
        "colab": {
          "base_uri": "https://localhost:8080/"
        },
        "id": "RdmxSil5ZHc9",
        "outputId": "0a0e67b5-818f-4d7c-e7eb-1dcea7a98c97"
      },
      "execution_count": 50,
      "outputs": [
        {
          "output_type": "stream",
          "name": "stdout",
          "text": [
            "Kelvin:1\n",
            "C: -272.15\n",
            "F: -150.74999999999997\n"
          ]
        }
      ]
    },
    {
      "cell_type": "markdown",
      "source": [
        "EJERCICIO- Elevar un numero al cuadrado"
      ],
      "metadata": {
        "id": "4uKvCD4D7L7k"
      }
    },
    {
      "cell_type": "code",
      "source": [
        "def elevarcuadrado(base=0,exponente=2):\n",
        "  return base**exponente"
      ],
      "metadata": {
        "id": "LdZYNecm7SaH"
      },
      "execution_count": 31,
      "outputs": []
    },
    {
      "cell_type": "code",
      "source": [
        "num= int(input(\"Num\"))\n",
        "print(\"Cuadrado:\", elevarcuadrado(num,3))"
      ],
      "metadata": {
        "colab": {
          "base_uri": "https://localhost:8080/"
        },
        "id": "B5uYYvNY7oS6",
        "outputId": "ec15d570-9e85-4ce0-b5e2-7d3bf7234ae5"
      },
      "execution_count": 32,
      "outputs": [
        {
          "output_type": "stream",
          "name": "stdout",
          "text": [
            "Num3\n",
            "Cuadrado: 27\n"
          ]
        }
      ]
    },
    {
      "cell_type": "markdown",
      "source": [
        "USANDO FUNCIONES LAMBDA"
      ],
      "metadata": {
        "id": "PK1i4a6m8Rs_"
      }
    },
    {
      "cell_type": "code",
      "source": [
        "elevarcuadradolambda = lambda base, exponente: base**exponente"
      ],
      "metadata": {
        "id": "D_exj4ku8v_l"
      },
      "execution_count": 20,
      "outputs": []
    },
    {
      "cell_type": "code",
      "source": [
        "valor= int(input(\"Num:\"))\n",
        "print(\"cuadrado:\", elevarcuadradolambda(valor,2))"
      ],
      "metadata": {
        "colab": {
          "base_uri": "https://localhost:8080/"
        },
        "id": "N4l7fTC-9Fy8",
        "outputId": "39eac90c-80b8-4b24-a07e-417497c42e4f"
      },
      "execution_count": 26,
      "outputs": [
        {
          "output_type": "stream",
          "name": "stdout",
          "text": [
            "Num:3\n",
            "cuadrado: 9\n"
          ]
        }
      ]
    },
    {
      "cell_type": "code",
      "source": [
        "serie = [5,4,3,2,6,7]\n",
        "resp = map(lambda x:x**2, serie)\n",
        "print(list(resp))\n",
        "\n",
        "resp2= map(elevarcuadrado, serie)\n",
        "print(list(resp2))"
      ],
      "metadata": {
        "colab": {
          "base_uri": "https://localhost:8080/"
        },
        "id": "wvMOVjQ9_c9P",
        "outputId": "e8bda850-4d30-4ba0-8af3-9179f4c8c090"
      },
      "execution_count": 33,
      "outputs": [
        {
          "output_type": "stream",
          "name": "stdout",
          "text": [
            "[25, 16, 9, 4, 36, 49]\n",
            "[25, 16, 9, 4, 36, 49]\n"
          ]
        }
      ]
    },
    {
      "cell_type": "markdown",
      "source": [
        "EJERCICIO: Obtener la raiz cuadrada de una serie de numeros fijos"
      ],
      "metadata": {
        "id": "vtja8tpVDCnb"
      }
    },
    {
      "cell_type": "code",
      "source": [
        "serie = [10, 20, 30, 40]\n",
        "resp = list (map(lambda x: x** 0.5, serie))\n",
        "print(resp)"
      ],
      "metadata": {
        "colab": {
          "base_uri": "https://localhost:8080/"
        },
        "id": "6HQuwi1hDKm0",
        "outputId": "f0b6b8c1-3177-4131-cf3c-53ee5b95c742"
      },
      "execution_count": 34,
      "outputs": [
        {
          "output_type": "stream",
          "name": "stdout",
          "text": [
            "[3.1622776601683795, 4.47213595499958, 5.477225575051661, 6.324555320336759]\n"
          ]
        }
      ]
    }
  ]
}